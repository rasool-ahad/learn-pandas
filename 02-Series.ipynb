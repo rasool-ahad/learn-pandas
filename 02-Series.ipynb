{
 "cells": [
  {
   "cell_type": "markdown",
   "id": "da3681d2-fd45-40d8-9c6c-97c8cb29d747",
   "metadata": {},
   "source": [
    "\n",
    "# Series"
   ]
  },
  {
   "cell_type": "code",
   "execution_count": 4,
   "id": "82a83bdf-2dca-4a00-a192-acc52a964582",
   "metadata": {},
   "outputs": [],
   "source": [
    "import pandas as pd\n",
    "import numpy as np"
   ]
  },
  {
   "cell_type": "markdown",
   "id": "e8c3a1a5-b099-4d23-a008-fbe2388020fe",
   "metadata": {},
   "source": [
    "## Table of Contents \n",
    "* [Name attribute](#name_attribute)\n",
    "* [Series is ndarray-like](#series_is_ndarray-like)\n",
    "* [Series is dict-like](#series_is_dict-like)\n",
    "* [Vectorized operations and label alignment with Series](#vectorized_operations_and_label_alignment_with_series)"
   ]
  },
  {
   "cell_type": "markdown",
   "id": "e4ea40c0-309b-4b45-84e5-fbde0b7ed211",
   "metadata": {},
   "source": [
    "There are three main data structures in pandas:\n",
    "\n",
    "- Series—1D\n",
    "- DataFrame—2D\n",
    "- Panel—3D\n",
    "\n",
    "> **note**: In Pandas, if you want to contain any sort of data that is three dimensional, a panel becomes a potent contender. It is used less frequently than series or dataframes and we will not cover it in these tutorials."
   ]
  },
  {
   "cell_type": "markdown",
   "id": "924d1456-356d-43a1-b085-4e8aad42a36f",
   "metadata": {},
   "source": [
    "we will talk about  series main concepts in this session : "
   ]
  },
  {
   "cell_type": "markdown",
   "id": "a53a806f-d2b5-404a-a70d-d35abdcbabf4",
   "metadata": {},
   "source": [
    "[`Series`](../reference/api/pandas.Series.html#pandas.Series \"pandas.Series\") is a one-dimensional labeled array capable of holding any data\n",
    "type (integers, strings, floating point numbers, Python objects, etc.). The axis\n",
    "labels are collectively referred to as the **index**. The basic method to create a Series is to call:\n",
    "\n",
    "```python\n",
    "s = pd.Series(data, index=index)\n",
    "```"
   ]
  },
  {
   "cell_type": "markdown",
   "id": "015bd0e7-a0ab-4012-a148-51e011f2fb1c",
   "metadata": {},
   "source": [
    "Here, `data` can be many different things:\n",
    "- a Python dict\n",
    "- an ndarray\n",
    "- a scalar value (like 5)"
   ]
  },
  {
   "cell_type": "markdown",
   "id": "0ea84622-99d6-42d0-8ab6-5bd8e858dde1",
   "metadata": {},
   "source": [
    "The passed **index** is a list of axis labels. Thus, this separates into a few\n",
    "cases depending on what **data is**:"
   ]
  },
  {
   "cell_type": "markdown",
   "id": "8b350168-ef6a-4d8d-903b-041e59c22716",
   "metadata": {},
   "source": [
    "**From ndarray**"
   ]
  },
  {
   "cell_type": "markdown",
   "id": "ecf6552c-634e-4d1c-a54a-92bccce1f2c8",
   "metadata": {},
   "source": [
    "If `data` is an ndarray, **index** must be the same length as **data**. If no\n",
    "index is passed, one will be created having values `[0, ..., len(data) - 1]`."
   ]
  },
  {
   "cell_type": "code",
   "execution_count": 5,
   "id": "3ebc1231-7846-404d-bf8c-4db6da585cba",
   "metadata": {},
   "outputs": [],
   "source": [
    "s = pd.Series(np.random.randn(5), index=[\"a\", \"b\", \"c\", \"d\", \"e\"])"
   ]
  },
  {
   "cell_type": "code",
   "execution_count": 6,
   "id": "78ccc338-fd19-4dc6-8092-8284a8238755",
   "metadata": {},
   "outputs": [
    {
     "data": {
      "text/plain": [
       "a   -1.305265\n",
       "b   -0.535462\n",
       "c   -0.698009\n",
       "d    0.106514\n",
       "e   -0.629070\n",
       "dtype: float64"
      ]
     },
     "execution_count": 6,
     "metadata": {},
     "output_type": "execute_result"
    }
   ],
   "source": [
    "s"
   ]
  },
  {
   "cell_type": "code",
   "execution_count": 7,
   "id": "56880502-70c0-45c0-b27c-c8ef8fe1b2dd",
   "metadata": {},
   "outputs": [
    {
     "data": {
      "text/plain": [
       "Index(['a', 'b', 'c', 'd', 'e'], dtype='object')"
      ]
     },
     "execution_count": 7,
     "metadata": {},
     "output_type": "execute_result"
    }
   ],
   "source": [
    "s.index"
   ]
  },
  {
   "cell_type": "code",
   "execution_count": 8,
   "id": "ecc56185-5e7e-4740-9841-3622958f5a96",
   "metadata": {},
   "outputs": [
    {
     "data": {
      "text/plain": [
       "0    0.477197\n",
       "1    0.850215\n",
       "2   -0.133171\n",
       "3    0.146913\n",
       "4    0.735406\n",
       "dtype: float64"
      ]
     },
     "execution_count": 8,
     "metadata": {},
     "output_type": "execute_result"
    }
   ],
   "source": [
    "pd.Series(np.random.randn(5))"
   ]
  },
  {
   "cell_type": "markdown",
   "id": "67b178e3-fba7-48b6-815e-242ced52533d",
   "metadata": {},
   "source": [
    "> **Note:**\n",
    "> pandas supports non-unique index values. If an operation\n",
    "that does not support duplicate index values is attempted, an exception\n",
    "will be raised at that time. The reason for being lazy is nearly all performance-based\n",
    "(there are many instances in computations, like parts of GroupBy, where the index\n",
    "is not used)."
   ]
  },
  {
   "cell_type": "markdown",
   "id": "11e2bbb7-e4e1-4ea6-8643-8ba2eff0f5a6",
   "metadata": {},
   "source": [
    "**From dict**"
   ]
  },
  {
   "cell_type": "markdown",
   "id": "6dba73c1-b1f7-43ed-8211-d1ab402a8f47",
   "metadata": {},
   "source": [
    "Series can be instantiated from dicts:"
   ]
  },
  {
   "cell_type": "code",
   "execution_count": 9,
   "id": "237f0888-25dd-44ee-966f-2111485372e7",
   "metadata": {},
   "outputs": [
    {
     "data": {
      "text/plain": [
       "b    1\n",
       "a    0\n",
       "c    2\n",
       "dtype: int64"
      ]
     },
     "execution_count": 9,
     "metadata": {},
     "output_type": "execute_result"
    }
   ],
   "source": [
    "d = {\"b\": 1, \"a\": 0, \"c\": 2}\n",
    "pd.Series(d)"
   ]
  },
  {
   "cell_type": "markdown",
   "id": "41630e90-5df9-4261-8913-4f99e030faa8",
   "metadata": {},
   "source": [
    "> **Note:**\n",
    "> When the data is a dict, and an index is not passed, the `Series` index\n",
    "will be ordered by the dict’s insertion order, if you’re using Python\n",
    "version >= 3.6 and pandas version >= 0.23.\n",
    ">\n",
    ">If you’re using Python < 3.6 or pandas < 0.23, and an index is not passed,\n",
    "the `Series` index will be the lexically ordered list of dict keys."
   ]
  },
  {
   "cell_type": "markdown",
   "id": "043204bf-70c5-4cdd-a732-7513828800bb",
   "metadata": {},
   "source": [
    "In the example above, if you were on a Python version lower than 3.6 or a\n",
    "pandas version lower than 0.23, the `Series` would be ordered by the lexical\n",
    "order of the dict keys (i.e. `['a', 'b', 'c']` rather than `['b', 'a', 'c']`)."
   ]
  },
  {
   "cell_type": "markdown",
   "id": "53a528d2-dbb2-4bb3-be48-ff4754846c38",
   "metadata": {},
   "source": [
    "If an index is passed, the values in data corresponding to the labels in the\n",
    "index will be pulled out."
   ]
  },
  {
   "cell_type": "code",
   "execution_count": 10,
   "id": "e8114814-7e20-4df5-8752-a1f4897e8804",
   "metadata": {},
   "outputs": [],
   "source": [
    "d = {\"a\": 0.0, \"b\": 1.0, \"c\": 2.0}"
   ]
  },
  {
   "cell_type": "code",
   "execution_count": 11,
   "id": "50462131-35ef-47e2-aa8f-7d610bb2834c",
   "metadata": {},
   "outputs": [
    {
     "data": {
      "text/plain": [
       "a    0.0\n",
       "b    1.0\n",
       "c    2.0\n",
       "dtype: float64"
      ]
     },
     "execution_count": 11,
     "metadata": {},
     "output_type": "execute_result"
    }
   ],
   "source": [
    "pd.Series(d)"
   ]
  },
  {
   "cell_type": "code",
   "execution_count": 12,
   "id": "b8574d52-627f-4a5d-8413-aecbd6eb805e",
   "metadata": {},
   "outputs": [
    {
     "data": {
      "text/plain": [
       "b    1.0\n",
       "c    2.0\n",
       "d    NaN\n",
       "a    0.0\n",
       "dtype: float64"
      ]
     },
     "execution_count": 12,
     "metadata": {},
     "output_type": "execute_result"
    }
   ],
   "source": [
    "pd.Series(d, index=[\"b\", \"c\", \"d\", \"a\"])"
   ]
  },
  {
   "cell_type": "markdown",
   "id": "416978e4-3a52-4302-a7b5-5609731fa310",
   "metadata": {},
   "source": [
    "> **Note:**\n",
    "> `NaN` (not a number) is the standard missing data marker used in pandas."
   ]
  },
  {
   "cell_type": "markdown",
   "id": "382935c2-ab83-4959-a137-40590410713b",
   "metadata": {},
   "source": [
    "**From scalar value**"
   ]
  },
  {
   "cell_type": "markdown",
   "id": "31af10cc-5f42-4094-8dab-fc03e5737486",
   "metadata": {},
   "source": [
    "If `data` is a scalar value, an index must be\n",
    "provided. The value will be repeated to match the length of **index**."
   ]
  },
  {
   "cell_type": "code",
   "execution_count": 13,
   "id": "2b7b2699-5ff9-4719-9992-fa67355b06fc",
   "metadata": {},
   "outputs": [
    {
     "data": {
      "text/plain": [
       "a    5.0\n",
       "b    5.0\n",
       "c    5.0\n",
       "d    5.0\n",
       "e    5.0\n",
       "dtype: float64"
      ]
     },
     "execution_count": 13,
     "metadata": {},
     "output_type": "execute_result"
    }
   ],
   "source": [
    "pd.Series(5.0, index=[\"a\", \"b\", \"c\", \"d\", \"e\"])"
   ]
  },
  {
   "cell_type": "markdown",
   "id": "32b5d9f0-ec23-46ec-85fb-0dd2269dc23d",
   "metadata": {},
   "source": [
    "<a class=\"anchor\" id=\"name_attribute\"></a>\n",
    "## Name attribute"
   ]
  },
  {
   "cell_type": "markdown",
   "id": "452e7aa5-dd1a-42cd-92fa-66d61fe08dd5",
   "metadata": {},
   "source": [
    "Series can also have a `name` attribute:"
   ]
  },
  {
   "cell_type": "code",
   "execution_count": 14,
   "id": "8b25004d-cc37-4a6e-8ff0-51f08e73e02a",
   "metadata": {},
   "outputs": [],
   "source": [
    "s = pd.Series(np.random.randn(5), name=\"something\")"
   ]
  },
  {
   "cell_type": "code",
   "execution_count": 15,
   "id": "e0a4ad37-c98a-4493-8db4-effac0452a54",
   "metadata": {},
   "outputs": [
    {
     "data": {
      "text/plain": [
       "0   -0.919120\n",
       "1    0.345664\n",
       "2    0.928687\n",
       "3   -1.106990\n",
       "4    2.882499\n",
       "Name: something, dtype: float64"
      ]
     },
     "execution_count": 15,
     "metadata": {},
     "output_type": "execute_result"
    }
   ],
   "source": [
    "s"
   ]
  },
  {
   "cell_type": "code",
   "execution_count": 16,
   "id": "9b717933-c362-47a8-9f35-27fb3ff28d45",
   "metadata": {},
   "outputs": [
    {
     "data": {
      "text/plain": [
       "'something'"
      ]
     },
     "execution_count": 16,
     "metadata": {},
     "output_type": "execute_result"
    }
   ],
   "source": [
    "s.name"
   ]
  },
  {
   "cell_type": "markdown",
   "id": "0d7d0117-6ab1-4e1f-bd05-e8bb32342eed",
   "metadata": {},
   "source": [
    "The Series `name` will be assigned automatically in many cases, in particular\n",
    "when taking 1D slices of DataFrame as you will see in DataFrame section later."
   ]
  },
  {
   "cell_type": "markdown",
   "id": "0507f567-0313-48af-aaae-c9e4739ccfd6",
   "metadata": {},
   "source": [
    "You can rename a Series with the [`pandas.Series.rename()`](../reference/api/pandas.Series.rename.html#pandas.Series.rename \"pandas.Series.rename\") method."
   ]
  },
  {
   "cell_type": "code",
   "execution_count": 17,
   "id": "3ec6c860-9be2-4ba8-95c5-203a0edd2917",
   "metadata": {},
   "outputs": [
    {
     "data": {
      "text/plain": [
       "'different'"
      ]
     },
     "execution_count": 17,
     "metadata": {},
     "output_type": "execute_result"
    }
   ],
   "source": [
    "s2 = s.rename(\"different\")\n",
    "s2.name"
   ]
  },
  {
   "cell_type": "markdown",
   "id": "287cb726-ad0a-4bd4-a5b9-92c39196e38d",
   "metadata": {},
   "source": [
    "> **important:** Note that `s` and `s2` refer to different objects."
   ]
  },
  {
   "cell_type": "markdown",
   "id": "62128769-8dfb-4166-8385-88ccaa9437f5",
   "metadata": {},
   "source": [
    "<a class=\"anchor\" id=\"series_is_ndarray-like\"></a>\n",
    "## Series is ndarray-like"
   ]
  },
  {
   "cell_type": "markdown",
   "id": "57be121c-eda3-416a-bc64-85acc3a5f037",
   "metadata": {},
   "source": [
    "`Series` acts very similarly to a `ndarray`, and is a valid argument to most NumPy functions.\n",
    "However, operations such as slicing will also slice the index."
   ]
  },
  {
   "cell_type": "code",
   "execution_count": 18,
   "id": "39ff0651-fa98-4655-b08c-3958215b60b1",
   "metadata": {},
   "outputs": [
    {
     "data": {
      "text/plain": [
       "-0.9191203616551883"
      ]
     },
     "execution_count": 18,
     "metadata": {},
     "output_type": "execute_result"
    }
   ],
   "source": [
    "s[0]"
   ]
  },
  {
   "cell_type": "code",
   "execution_count": 19,
   "id": "2dc02f40-3afb-45b8-b7e5-d2f65fe58f49",
   "metadata": {},
   "outputs": [
    {
     "data": {
      "text/plain": [
       "0   -0.919120\n",
       "1    0.345664\n",
       "2    0.928687\n",
       "Name: something, dtype: float64"
      ]
     },
     "execution_count": 19,
     "metadata": {},
     "output_type": "execute_result"
    }
   ],
   "source": [
    "s[:3]"
   ]
  },
  {
   "cell_type": "code",
   "execution_count": 20,
   "id": "427bbd39-b114-4e81-bc36-3a7a5667133b",
   "metadata": {},
   "outputs": [
    {
     "data": {
      "text/plain": [
       "2    0.928687\n",
       "4    2.882499\n",
       "Name: something, dtype: float64"
      ]
     },
     "execution_count": 20,
     "metadata": {},
     "output_type": "execute_result"
    }
   ],
   "source": [
    "s[s > s.median()]"
   ]
  },
  {
   "cell_type": "code",
   "execution_count": 21,
   "id": "f28dc4f2-7d2c-415c-979f-9a38ac364dc1",
   "metadata": {},
   "outputs": [
    {
     "data": {
      "text/plain": [
       "4    2.882499\n",
       "3   -1.106990\n",
       "1    0.345664\n",
       "Name: something, dtype: float64"
      ]
     },
     "execution_count": 21,
     "metadata": {},
     "output_type": "execute_result"
    }
   ],
   "source": [
    "s[[4, 3, 1]]"
   ]
  },
  {
   "cell_type": "code",
   "execution_count": 22,
   "id": "a8d8633b-3d04-414d-b59c-e898d81d13e0",
   "metadata": {},
   "outputs": [
    {
     "data": {
      "text/plain": [
       "0     0.398870\n",
       "1     1.412928\n",
       "2     2.531183\n",
       "3     0.330552\n",
       "4    17.858842\n",
       "Name: something, dtype: float64"
      ]
     },
     "execution_count": 22,
     "metadata": {},
     "output_type": "execute_result"
    }
   ],
   "source": [
    "np.exp(s)"
   ]
  },
  {
   "cell_type": "markdown",
   "id": "8af1991d-cd6a-4b2d-8ffa-6dc77d483d8b",
   "metadata": {},
   "source": [
    "> **Note:**\n",
    "> We will address array-based indexing like `s[[4, 3, 1]]`\n",
    "later in indexing section in details."
   ]
  },
  {
   "cell_type": "markdown",
   "id": "9b32a3cb-2e11-45e4-bd32-dad70d565157",
   "metadata": {},
   "source": [
    "Like a NumPy array, a pandas Series has a `dtype`."
   ]
  },
  {
   "cell_type": "code",
   "execution_count": 23,
   "id": "788b1951-c349-4aa8-8590-3e7e3dfb0d2f",
   "metadata": {},
   "outputs": [
    {
     "data": {
      "text/plain": [
       "dtype('float64')"
      ]
     },
     "execution_count": 23,
     "metadata": {},
     "output_type": "execute_result"
    }
   ],
   "source": [
    "s.dtype"
   ]
  },
  {
   "cell_type": "markdown",
   "id": "81e96086-9132-4103-8b7b-2f97b164c4d3",
   "metadata": {},
   "source": [
    "This is often a NumPy dtype. However, pandas and 3rd-party libraries\n",
    "extend NumPy’s type system in a few places, in which case the dtype would\n",
    "be an [`ExtensionDtype`](../reference/api/pandas.api.extensions.ExtensionDtype.html#pandas.api.extensions.ExtensionDtype \"pandas.api.extensions.ExtensionDtype\"). Some examples within\n",
    "pandas are [Categorical data](https://pandas.pydata.org/docs/user_guide/categorical.html#categorical) and [Nullable integer data type](https://pandas.pydata.org/docs/user_guide/integer_na.html#integer-na). See dtypes will be covered in details in later sections."
   ]
  },
  {
   "cell_type": "markdown",
   "id": "9f689eae-8d15-4711-8ba2-c0759e6366ea",
   "metadata": {},
   "source": [
    "If you need the actual array backing a `Series`, use [`Series.array`](../reference/api/pandas.Series.array.html#pandas.Series.array \"pandas.Series.array\")."
   ]
  },
  {
   "cell_type": "code",
   "execution_count": 24,
   "id": "5c918755-1f5f-4b0b-9872-5a0a0efe04a5",
   "metadata": {},
   "outputs": [
    {
     "data": {
      "text/plain": [
       "<PandasArray>\n",
       "[-0.9191203616551883,  0.3456642457435624,  0.9286869397378184,\n",
       " -1.1069903592859531,  2.8824987393083386]\n",
       "Length: 5, dtype: float64"
      ]
     },
     "execution_count": 24,
     "metadata": {},
     "output_type": "execute_result"
    }
   ],
   "source": [
    "s.array"
   ]
  },
  {
   "cell_type": "markdown",
   "id": "a70365f1-1386-4e9c-9269-6ce15bb05f99",
   "metadata": {},
   "source": [
    "Accessing the array can be useful when you need to do some operation without the\n",
    "index (to disable [automatic alignment](https://pandas.pydata.org/docs/user_guide/dsintro.html#dsintro-alignment), for example which will be covered later)."
   ]
  },
  {
   "cell_type": "markdown",
   "id": "c38b8412-1724-438a-b39a-d589630084d4",
   "metadata": {},
   "source": [
    "[`Series.array`](../reference/api/pandas.Series.array.html#pandas.Series.array \"pandas.Series.array\") will always be an [`ExtensionArray`](../reference/api/pandas.api.extensions.ExtensionArray.html#pandas.api.extensions.ExtensionArray \"pandas.api.extensions.ExtensionArray\").\n",
    "Briefly, an ExtensionArray is a thin wrapper around one or more *concrete* arrays like a\n",
    "[`numpy.ndarray`](https://numpy.org/doc/stable/reference/generated/numpy.ndarray.html#numpy.ndarray \"(in NumPy v1.23)\"). pandas knows how to take an `ExtensionArray` and\n",
    "store it in a `Series` or a column of a `DataFrame`.\n",
    "See [dtypes](https://pandas.pydata.org/docs/user_guide/basics.html#basics-dtypes) for more."
   ]
  },
  {
   "cell_type": "markdown",
   "id": "3ab36fb1-3c55-41f3-ac3c-a7081fe21e7b",
   "metadata": {},
   "source": [
    "While Series is ndarray-like, if you need an *actual* ndarray, then use\n",
    "[`Series.to_numpy()`](../reference/api/pandas.Series.to_numpy.html#pandas.Series.to_numpy \"pandas.Series.to_numpy\")."
   ]
  },
  {
   "cell_type": "code",
   "execution_count": 25,
   "id": "f87a59ce-7800-4221-aba1-e09f905f68ce",
   "metadata": {},
   "outputs": [
    {
     "data": {
      "text/plain": [
       "array([-0.91912036,  0.34566425,  0.92868694, -1.10699036,  2.88249874])"
      ]
     },
     "execution_count": 25,
     "metadata": {},
     "output_type": "execute_result"
    }
   ],
   "source": [
    "s.to_numpy()"
   ]
  },
  {
   "cell_type": "markdown",
   "id": "1649014b-afd4-4fd7-9824-e7a5263e7202",
   "metadata": {},
   "source": [
    "Even if the Series is backed by a [`ExtensionArray`](https://pandas.pydata.org/docs/reference/api/pandas.api.extensions.ExtensionArray.html#pandas.api.extensions.ExtensionArray\"),\n",
    "[`Series.to_numpy()`](https://pandas.pydata.org/docs/reference/api/pandas.Series.to_numpy.html#pandas.Series.to_numpy\") will return a NumPy ndarray."
   ]
  },
  {
   "cell_type": "markdown",
   "id": "34b051d5-c5f0-43fd-8796-4198c71948b6",
   "metadata": {},
   "source": [
    "<a class=\"anchor\" id=\"series_is_dict-like\"></a>\n",
    "## Series is dict-like"
   ]
  },
  {
   "cell_type": "markdown",
   "id": "dbcf92fa-0588-4117-a61f-08932c8f0740",
   "metadata": {},
   "source": [
    "A Series is like a fixed-size dict in that you can get and set values by index\n",
    "label:"
   ]
  },
  {
   "cell_type": "code",
   "execution_count": 26,
   "id": "459f53a8-7c79-4e85-beeb-5f62976fcb30",
   "metadata": {},
   "outputs": [
    {
     "ename": "KeyError",
     "evalue": "'a'",
     "output_type": "error",
     "traceback": [
      "\u001b[1;31m---------------------------------------------------------------------------\u001b[0m",
      "\u001b[1;31mKeyError\u001b[0m                                  Traceback (most recent call last)",
      "Cell \u001b[1;32mIn[26], line 1\u001b[0m\n\u001b[1;32m----> 1\u001b[0m \u001b[43ms\u001b[49m\u001b[43m[\u001b[49m\u001b[38;5;124;43m\"\u001b[39;49m\u001b[38;5;124;43ma\u001b[39;49m\u001b[38;5;124;43m\"\u001b[39;49m\u001b[43m]\u001b[49m\n",
      "File \u001b[1;32mC:\\ProgramData\\anaconda3\\lib\\site-packages\\pandas\\core\\series.py:981\u001b[0m, in \u001b[0;36mSeries.__getitem__\u001b[1;34m(self, key)\u001b[0m\n\u001b[0;32m    978\u001b[0m     \u001b[38;5;28;01mreturn\u001b[39;00m \u001b[38;5;28mself\u001b[39m\u001b[38;5;241m.\u001b[39m_values[key]\n\u001b[0;32m    980\u001b[0m \u001b[38;5;28;01melif\u001b[39;00m key_is_scalar:\n\u001b[1;32m--> 981\u001b[0m     \u001b[38;5;28;01mreturn\u001b[39;00m \u001b[38;5;28;43mself\u001b[39;49m\u001b[38;5;241;43m.\u001b[39;49m\u001b[43m_get_value\u001b[49m\u001b[43m(\u001b[49m\u001b[43mkey\u001b[49m\u001b[43m)\u001b[49m\n\u001b[0;32m    983\u001b[0m \u001b[38;5;28;01mif\u001b[39;00m is_hashable(key):\n\u001b[0;32m    984\u001b[0m     \u001b[38;5;66;03m# Otherwise index.get_value will raise InvalidIndexError\u001b[39;00m\n\u001b[0;32m    985\u001b[0m     \u001b[38;5;28;01mtry\u001b[39;00m:\n\u001b[0;32m    986\u001b[0m         \u001b[38;5;66;03m# For labels that don't resolve as scalars like tuples and frozensets\u001b[39;00m\n",
      "File \u001b[1;32mC:\\ProgramData\\anaconda3\\lib\\site-packages\\pandas\\core\\series.py:1089\u001b[0m, in \u001b[0;36mSeries._get_value\u001b[1;34m(self, label, takeable)\u001b[0m\n\u001b[0;32m   1086\u001b[0m     \u001b[38;5;28;01mreturn\u001b[39;00m \u001b[38;5;28mself\u001b[39m\u001b[38;5;241m.\u001b[39m_values[label]\n\u001b[0;32m   1088\u001b[0m \u001b[38;5;66;03m# Similar to Index.get_value, but we do not fall back to positional\u001b[39;00m\n\u001b[1;32m-> 1089\u001b[0m loc \u001b[38;5;241m=\u001b[39m \u001b[38;5;28;43mself\u001b[39;49m\u001b[38;5;241;43m.\u001b[39;49m\u001b[43mindex\u001b[49m\u001b[38;5;241;43m.\u001b[39;49m\u001b[43mget_loc\u001b[49m\u001b[43m(\u001b[49m\u001b[43mlabel\u001b[49m\u001b[43m)\u001b[49m\n\u001b[0;32m   1090\u001b[0m \u001b[38;5;28;01mreturn\u001b[39;00m \u001b[38;5;28mself\u001b[39m\u001b[38;5;241m.\u001b[39mindex\u001b[38;5;241m.\u001b[39m_get_values_for_loc(\u001b[38;5;28mself\u001b[39m, loc, label)\n",
      "File \u001b[1;32mC:\\ProgramData\\anaconda3\\lib\\site-packages\\pandas\\core\\indexes\\range.py:395\u001b[0m, in \u001b[0;36mRangeIndex.get_loc\u001b[1;34m(self, key, method, tolerance)\u001b[0m\n\u001b[0;32m    393\u001b[0m             \u001b[38;5;28;01mraise\u001b[39;00m \u001b[38;5;167;01mKeyError\u001b[39;00m(key) \u001b[38;5;28;01mfrom\u001b[39;00m \u001b[38;5;21;01merr\u001b[39;00m\n\u001b[0;32m    394\u001b[0m     \u001b[38;5;28mself\u001b[39m\u001b[38;5;241m.\u001b[39m_check_indexing_error(key)\n\u001b[1;32m--> 395\u001b[0m     \u001b[38;5;28;01mraise\u001b[39;00m \u001b[38;5;167;01mKeyError\u001b[39;00m(key)\n\u001b[0;32m    396\u001b[0m \u001b[38;5;28;01mreturn\u001b[39;00m \u001b[38;5;28msuper\u001b[39m()\u001b[38;5;241m.\u001b[39mget_loc(key, method\u001b[38;5;241m=\u001b[39mmethod, tolerance\u001b[38;5;241m=\u001b[39mtolerance)\n",
      "\u001b[1;31mKeyError\u001b[0m: 'a'"
     ]
    }
   ],
   "source": [
    "s[\"a\"]"
   ]
  },
  {
   "cell_type": "code",
   "execution_count": null,
   "id": "61475ba7-3a3b-448e-b04d-48cfaf1159c1",
   "metadata": {},
   "outputs": [],
   "source": [
    "s[\"e\"] = 12.0"
   ]
  },
  {
   "cell_type": "code",
   "execution_count": null,
   "id": "fc2f506d-30ce-40d8-b5fc-2507c50f21c6",
   "metadata": {},
   "outputs": [],
   "source": [
    "s"
   ]
  },
  {
   "cell_type": "code",
   "execution_count": null,
   "id": "f752ac09-e50a-4b14-b404-d578f8f6c43b",
   "metadata": {},
   "outputs": [],
   "source": [
    "\"e\" in s"
   ]
  },
  {
   "cell_type": "code",
   "execution_count": null,
   "id": "b97de411-3a68-43a2-9611-72b19188f797",
   "metadata": {},
   "outputs": [],
   "source": [
    "\"f\" in s"
   ]
  },
  {
   "cell_type": "markdown",
   "id": "59f866a8-39f4-451f-b3f5-165cfb40a351",
   "metadata": {},
   "source": [
    "If a label is not contained, an exception is raised:"
   ]
  },
  {
   "cell_type": "markdown",
   "id": "9a17f935-d4e9-48b8-825b-7bb8684b8d5b",
   "metadata": {},
   "source": [
    "Using the `get` method, a missing label will return None or specified default:"
   ]
  },
  {
   "cell_type": "code",
   "execution_count": null,
   "id": "d2956a3a-123b-409b-8580-73c30f0fffb9",
   "metadata": {},
   "outputs": [],
   "source": [
    "s.get(\"f\")"
   ]
  },
  {
   "cell_type": "code",
   "execution_count": null,
   "id": "8e2d6ca2-aba8-4bb8-84b6-fcdbc25cabbc",
   "metadata": {},
   "outputs": [],
   "source": [
    "s.get(\"f\", np.nan)"
   ]
  },
  {
   "cell_type": "markdown",
   "id": "b7a42d8d-a252-42f9-ac39-102f8d5f8fa5",
   "metadata": {
    "tags": []
   },
   "source": [
    "<a class=\"anchor\" id=\"vectorized_operations_and_label_alignment_with_series\"></a>\n",
    "## Vectorized operations and label alignment with Series"
   ]
  },
  {
   "cell_type": "markdown",
   "id": "0c653546-2073-4675-8dd5-b54377418c64",
   "metadata": {},
   "source": [
    "When working with raw NumPy arrays, looping through value-by-value is usually\n",
    "not necessary. The same is true when working with Series in pandas.\n",
    "Series can also be passed into most NumPy methods expecting an ndarray."
   ]
  },
  {
   "cell_type": "code",
   "execution_count": null,
   "id": "d9b102f9-21c0-4702-8aa3-597b7419b53e",
   "metadata": {},
   "outputs": [],
   "source": [
    "s + s"
   ]
  },
  {
   "cell_type": "code",
   "execution_count": null,
   "id": "cb383408-9c3f-45a2-a894-c9e760ba7c79",
   "metadata": {},
   "outputs": [],
   "source": [
    "s * 2"
   ]
  },
  {
   "cell_type": "code",
   "execution_count": null,
   "id": "1a80e939-a459-4218-8bc0-d91ff3aac40e",
   "metadata": {},
   "outputs": [],
   "source": [
    "np.exp(s)"
   ]
  },
  {
   "cell_type": "markdown",
   "id": "dfe86e0d-7933-4b1b-8026-0ff3da8dabeb",
   "metadata": {},
   "source": [
    "A key difference between Series and ndarray is that operations between Series\n",
    "automatically align the data based on label. Thus, you can write computations\n",
    "without giving consideration to whether the Series involved have the same\n",
    "labels."
   ]
  },
  {
   "cell_type": "code",
   "execution_count": null,
   "id": "677433f6-2b89-4db7-838e-3cbf166521df",
   "metadata": {},
   "outputs": [],
   "source": [
    "s[1:] + s[:-1]"
   ]
  },
  {
   "cell_type": "markdown",
   "id": "b41d8b73-38ec-4f7b-9f62-069fb1c333da",
   "metadata": {},
   "source": [
    "The result of an operation between unaligned Series will have the **union** of\n",
    "the indexes involved. If a label is not found in one Series or the other, the\n",
    "result will be marked as missing `NaN`. Being able to write code without doing\n",
    "any explicit data alignment grants immense freedom and flexibility in\n",
    "interactive data analysis and research. The integrated data alignment features\n",
    "of the pandas data structures set pandas apart from the majority of related\n",
    "tools for working with labeled data."
   ]
  },
  {
   "cell_type": "markdown",
   "id": "fd4521de-8d2c-4d83-b066-0349aa84e2af",
   "metadata": {},
   "source": [
    "> **Note:**\n",
    "> In general, we chose to make the default result of operations between\n",
    "differently indexed objects yield the **union** of the indexes in order to\n",
    "avoid loss of information. Having an index label, though the data is\n",
    "missing, is typically important information as part of a computation. You\n",
    "of course have the option of dropping labels with missing data via the\n",
    "**dropna** function."
   ]
  }
 ],
 "metadata": {
  "kernelspec": {
   "display_name": "Python 3 (ipykernel)",
   "language": "python",
   "name": "python3"
  },
  "language_info": {
   "codemirror_mode": {
    "name": "ipython",
    "version": 3
   },
   "file_extension": ".py",
   "mimetype": "text/x-python",
   "name": "python",
   "nbconvert_exporter": "python",
   "pygments_lexer": "ipython3",
   "version": "3.10.9"
  }
 },
 "nbformat": 4,
 "nbformat_minor": 5
}
